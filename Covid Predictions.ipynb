{
 "cells": [
  {
   "cell_type": "markdown",
   "metadata": {},
   "source": [
    "# Get the Data"
   ]
  },
  {
   "cell_type": "code",
   "execution_count": 1,
   "metadata": {},
   "outputs": [],
   "source": [
    "import pandas as pd\n",
    "import numpy as np\n",
    "import matplotlib.pyplot as plt\n",
    "from datetime import date\n",
    "\n",
    "data = pd.read_csv('https://raw.githubusercontent.com/CSSEGISandData/COVID-19/master/csse_covid_19_data/csse_covid_19_time_series/time_series_covid19_confirmed_global.csv')\n",
    "\n",
    "temp = data.iloc[:,4:].columns\n",
    "dates = pd.date_range(start=temp[0], end=temp[-1])\n",
    "X = pd.DataFrame(np.arange(1, len(dates) + 1))\n",
    "\n",
    "y = data.iloc[136, 4:]"
   ]
  },
  {
   "cell_type": "markdown",
   "metadata": {},
   "source": [
    "# Use Cross Validation - find best degree polynomial"
   ]
  },
  {
   "cell_type": "code",
   "execution_count": 2,
   "metadata": {},
   "outputs": [],
   "source": [
    "from sklearn.linear_model import LinearRegression\n",
    "from sklearn.model_selection import cross_val_score\n",
    "from sklearn.preprocessing import PolynomialFeatures\n",
    "from sklearn.metrics import mean_squared_error"
   ]
  },
  {
   "cell_type": "markdown",
   "metadata": {},
   "source": [
    "# Which degree polynomial is best (1-20)?"
   ]
  },
  {
   "cell_type": "code",
   "execution_count": 4,
   "metadata": {},
   "outputs": [
    {
     "data": {
      "text/plain": [
       "[3241.9033624374906,\n",
       " 1308.6947948758552,\n",
       " 1486.7143529075859,\n",
       " 1606.3945201636839,\n",
       " 623.1993423948755,\n",
       " 1724.0890385075459,\n",
       " 1602.8284531569254,\n",
       " 921.7165322418438,\n",
       " 1913.5765034429533,\n",
       " 2787.943154124784,\n",
       " 2761.298043266412,\n",
       " 3096.0913323304003,\n",
       " 2070.649012898566,\n",
       " 535.0549958602649,\n",
       " 3663.5230937053975,\n",
       " 7584.45074753247,\n",
       " 11725.802260944252,\n",
       " 15436.437530463507,\n",
       " 17944.376793269643,\n",
       " 18459.523155518258]"
      ]
     },
     "execution_count": 4,
     "metadata": {},
     "output_type": "execute_result"
    }
   ],
   "source": [
    "d_range = range(1, 21)\n",
    "\n",
    "\n",
    "d_scores = []\n",
    "\n",
    "for d in d_range:\n",
    "    poly = PolynomialFeatures(degree=d)\n",
    "    X_poly = poly.fit_transform(X)\n",
    "    lin_reg = LinearRegression()\n",
    "    lin_reg.fit(X_poly, y)\n",
    "    d_scores.append(np.sqrt(-cross_val_score(lin_reg, X_poly, y, cv=10, scoring='neg_mean_squared_error')).mean())\n",
    "    \n",
    "    \n",
    "d_scores"
   ]
  },
  {
   "cell_type": "markdown",
   "metadata": {},
   "source": [
    "# Plot the scores"
   ]
  },
  {
   "cell_type": "markdown",
   "metadata": {},
   "source": [
    "* Looks like 5 is the best (over 15 mass overfitting)"
   ]
  },
  {
   "cell_type": "code",
   "execution_count": 5,
   "metadata": {},
   "outputs": [
    {
     "data": {
      "image/png": "[encoded data removed]",
      "text/plain": [
       "<Figure size 432x288 with 1 Axes>"
      ]
     },
     "metadata": {
      "needs_background": "light"
     },
     "output_type": "display_data"
    }
   ],
   "source": [
    "plt.plot(d_range, d_scores)\n",
    "plt.show()"
   ]
  },
  {
   "cell_type": "markdown",
   "metadata": {},
   "source": [
    "# Train model on 5th degree Polynomial"
   ]
  },
  {
   "cell_type": "code",
   "execution_count": 8,
   "metadata": {},
   "outputs": [
    {
     "name": "stdout",
     "output_type": "stream",
     "text": [
      "[-19427714.07750985   -988569.30534798    -51865.00415002\n",
      "   -870564.95509493   -640064.98123041   -906883.36842869\n",
      "  -2392039.05959663  -1038507.059954     -996664.02699025\n",
      " -17512888.76112759]\n",
      "[19427714.07750985   988569.30534798    51865.00415002   870564.95509493\n",
      "   640064.98123041   906883.36842869  2392039.05959663  1038507.059954\n",
      "   996664.02699025 17512888.76112759]\n",
      "[4407.68806491  994.26822606  227.73889468  933.04070388  800.04061224\n",
      "  952.30424153 1546.62182178 1019.07166576  998.33062008 4184.84035073]\n",
      "1606.3945201636839\n"
     ]
    },
    {
     "data": {
      "text/plain": [
       "(95,)"
      ]
     },
     "execution_count": 8,
     "metadata": {},
     "output_type": "execute_result"
    }
   ],
   "source": [
    "lin_reg = LinearRegression()\n",
    "poly = PolynomialFeatures(degree=4)\n",
    "X_poly = poly.fit_transform(X)\n",
    "lin_reg.fit(X_poly, y)\n",
    "\n",
    "scores = cross_val_score(lin_reg, X_poly, y, cv=10, scoring='neg_mean_squared_error')\n",
    "print(scores)\n",
    "mse_scores = -scores\n",
    "print(mse_scores)\n",
    "\n",
    "rmse_scores = np.sqrt(mse_scores)\n",
    "print(rmse_scores)\n",
    "\n",
    "print(rmse_scores.mean())\n",
    "\n",
    "\n",
    "y_pred = lin_reg.predict(X_poly)\n",
    "y_pred.shape"
   ]
  },
  {
   "cell_type": "markdown",
   "metadata": {},
   "source": [
    "# Plot vs actual cases"
   ]
  },
  {
   "cell_type": "code",
   "execution_count": 9,
   "metadata": {},
   "outputs": [
    {
     "data": {
      "image/png": "[encoded data removed]",
      "text/plain": [
       "<Figure size 432x288 with 1 Axes>"
      ]
     },
     "metadata": {
      "needs_background": "light"
     },
     "output_type": "display_data"
    }
   ],
   "source": [
    "plt.plot(dates, y_pred, label='predictions', color='r')\n",
    "plt.scatter(dates, y, label='actual cases', s=10)\n",
    "plt.xlabel('Date')\n",
    "plt.ylabel('Number of Cases')\n",
    "plt.xticks(dates[0::23])\n",
    "#plt.legend=(loc='top left')\n",
    "plt.show()"
   ]
  },
  {
   "cell_type": "markdown",
   "metadata": {},
   "source": [
    "# Create dates from 1/22/20 - 1/22/21"
   ]
  },
  {
   "cell_type": "code",
   "execution_count": 10,
   "metadata": {},
   "outputs": [
    {
     "name": "stdout",
     "output_type": "stream",
     "text": [
      "<class 'pandas.core.indexes.datetimes.DatetimeIndex'>\n",
      "DatetimeIndex(['2020-01-22', '2020-01-23', '2020-01-24', '2020-01-25',\n",
      "               '2020-01-26', '2020-01-27', '2020-01-28', '2020-01-29',\n",
      "               '2020-01-30', '2020-01-31',\n",
      "               ...\n",
      "               '2021-01-13', '2021-01-14', '2021-01-15', '2021-01-16',\n",
      "               '2021-01-17', '2021-01-18', '2021-01-19', '2021-01-20',\n",
      "               '2021-01-21', '2021-01-22'],\n",
      "              dtype='datetime64[ns]', length=367, freq='D')\n",
      "(367,)\n"
     ]
    }
   ],
   "source": [
    "from datetime import date\n",
    "\n",
    "year_dates = pd.date_range(start=\"1/22/20\",end=\"1/22/21\")\n",
    "#year_dates = pd.date_range(start=\"2020-01-22\",end=\"2021-01-22\")\n",
    "\n",
    "\n",
    "print(type(year_dates))\n",
    "print(year_dates)\n",
    "print(year_dates.shape)"
   ]
  },
  {
   "cell_type": "markdown",
   "metadata": {},
   "source": [
    "# Make predictions on 365 days (year_dates)"
   ]
  },
  {
   "cell_type": "code",
   "execution_count": 11,
   "metadata": {},
   "outputs": [
    {
     "data": {
      "text/plain": [
       "(367,)"
      ]
     },
     "execution_count": 11,
     "metadata": {},
     "output_type": "execute_result"
    }
   ],
   "source": [
    "X_year = pd.DataFrame(np.arange(1, len(year_dates)+1))\n",
    "\n",
    "X_year_poly = poly.fit_transform(X_year)\n",
    "\n",
    "y_pred_year = lin_reg.predict(X_year_poly)\n",
    "y_pred_year.shape"
   ]
  },
  {
   "cell_type": "markdown",
   "metadata": {},
   "source": [
    "# Plot predicted cases for a year"
   ]
  },
  {
   "cell_type": "code",
   "execution_count": 12,
   "metadata": {},
   "outputs": [
    {
     "data": {
      "image/png": "[encoded data removed]",
      "text/plain": [
       "<Figure size 432x288 with 1 Axes>"
      ]
     },
     "metadata": {
      "needs_background": "light"
     },
     "output_type": "display_data"
    }
   ],
   "source": [
    "plt.plot(year_dates[0:180], y_pred_year[0:180], label='predictions')\n",
    "#plt.plot(dates, y_pred, label='predictions', color='r')\n",
    "\n",
    "#plt.xticks(year_dates[1:110:25])\n",
    "plt.xlabel('Date')\n",
    "plt.ylabel('Predicted Cases')\n",
    "plt.show()"
   ]
  },
  {
   "cell_type": "code",
   "execution_count": null,
   "metadata": {},
   "outputs": [],
   "source": []
  }
 ],
 "metadata": {
  "kernelspec": {
   "display_name": "Python 3",
   "language": "python",
   "name": "python3"
  },
  "language_info": {
   "codemirror_mode": {
    "name": "ipython",
    "version": 3
   },
   "file_extension": ".py",
   "mimetype": "text/x-python",
   "name": "python",
   "nbconvert_exporter": "python",
   "pygments_lexer": "ipython3",
   "version": "3.7.7"
  }
 },
 "nbformat": 4,
 "nbformat_minor": 4
}
